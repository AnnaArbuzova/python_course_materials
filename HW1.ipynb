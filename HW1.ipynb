{
 "cells": [
  {
   "cell_type": "markdown",
   "id": "ef43214b",
   "metadata": {},
   "source": [
    "# 0. Наибольший общий делитель - 1 балл\n",
    "Напишите функцию, которая на вход принимает два целых числа, а на выходе отдает их наибольших общий делитель. \n",
    "\n",
    "Пример\n",
    "\n",
    "Ввод \n",
    "\n",
    "`lcd(10,2)`\n",
    "\n",
    "Вывод\n",
    "\n",
    "`2`\n",
    "\n",
    "Пример\n",
    "\n",
    "Ввод \n",
    "\n",
    "`lcd(10,25)`\n",
    "\n",
    "Вывод\n",
    "\n",
    "`5`"
   ]
  },
  {
   "cell_type": "code",
   "execution_count": 20,
   "id": "d227561c",
   "metadata": {},
   "outputs": [
    {
     "data": {
      "text/plain": [
       "5"
      ]
     },
     "execution_count": 20,
     "metadata": {},
     "output_type": "execute_result"
    }
   ],
   "source": [
    "import math\n",
    "def lcd(a, b):\n",
    "    return math.gcd(a, b)\n",
    "lcd(10, 2)\n",
    "lcd(10,25)"
   ]
  },
  {
   "cell_type": "markdown",
   "id": "777171f3",
   "metadata": {},
   "source": [
    "# 1. Задачка про перевод из `camel_case`'a в `snake_case` - 1.5 балла\n",
    " Напишите функцию, которая на вход принимает строку, записанную в `CamelCase`, а переводит ее в `snake_case`.\n",
    " Подсказка: идите по строке циклом, обрабатывайте каждый символ, если символ заглавный, к обработанным ранее добавляйте нижнее подчеркивание и нынешний переводите в `lower case` \n",
    " \n",
    " Пример:\n",
    "\n",
    "**Вход**: `'camelCaseVar'`\n",
    "\n",
    "**Выход**: `'camel_сase_var'`"
   ]
  },
  {
   "cell_type": "code",
   "execution_count": 24,
   "id": "5e4c1ced",
   "metadata": {},
   "outputs": [
    {
     "data": {
      "text/plain": [
       "'camel_case_var'"
      ]
     },
     "execution_count": 24,
     "metadata": {},
     "output_type": "execute_result"
    }
   ],
   "source": [
    "def cc2sc(s):\n",
    "    ns = \"\"\n",
    "    for c in s:\n",
    "        if len(ns) > 0 and c.isupper():\n",
    "            ns += \"_\"\n",
    "        ns += c.lower()\n",
    "    return ns\n",
    "\n",
    "cc2sc('camelCaseVar')"
   ]
  },
  {
   "cell_type": "markdown",
   "id": "929847a2",
   "metadata": {},
   "source": [
    "# 2. Про Поросёнка Петра - 2 балла\n",
    "На плоскости в точке `(0,0)` стоит Поросёнок Пётр. Он умеет ходить налево, направо, вверх и вниз. Расстояние его прохода в какую-либо сторону измеряется в шагах. Когда он идет вправо, его первая координата увеличивается, когда влево - уменьшается. Когда он идет вверх, его вторая координата увеличивается, а когда вниз - уменьшается.\n",
    "С клавиатуры считывается число `N` - число ходов, которые сделает Пётр. После чего на каждом шаге спрашивается, сколько шагов и в какую сторону за этот ход Пётр сделает. Так происходит, пока Пётр не осуществит все N ходов.\n",
    "Программа должна вывести, сколько шагов Пётр должен был бы сделать, чтобы кратчайшим путем прибыть из свое начальной точки `(0,0)` в свою конечную точку. \n",
    "\n",
    "Напоминание: Пётр умеет ходить только вверх-вниз, и влево-вправо, но не по диагонали.\n",
    "\n",
    "Пример ввода:\n",
    "\n",
    "Введите N: `3`\n",
    "\n",
    "Ход 1: `Вверх 1`\n",
    "\n",
    "Ход 2: `Вниз 1`\n",
    "\n",
    "Ход 3: `Вверх 1`\n",
    "\n",
    "Пример вывода:\n",
    "`Пётр находится на расстоянии 1 от (0,0)`"
   ]
  },
  {
   "cell_type": "code",
   "execution_count": 26,
   "id": "b3231431",
   "metadata": {},
   "outputs": [
    {
     "name": "stdout",
     "output_type": "stream",
     "text": [
      "Введите N: 3\n",
      "Ход 1: вверх 1\n",
      "Ход 2: вниз 1\n",
      "Ход 3: вверх 1\n",
      "0\n"
     ]
    }
   ],
   "source": [
    "petr_dict = {}\n",
    " \n",
    "for move in range(int(input('Введите N: '))):\n",
    "    current_move = input(f'Ход {move + 1}: ')\n",
    "    move_direction, move_coord = current_move.split()\n",
    "    petr_dict[move_direction] = petr_dict.get(move_direction, 0) + int(move_coord)\n",
    " \n",
    "res_y = abs(petr_dict.get('Вверх', 0) - petr_dict.get('Вниз', 0))\n",
    "res_x = abs(petr_dict.get('Влево', 0) - petr_dict.get('Вправо', 0))\n",
    "print(res_x + res_y)"
   ]
  },
  {
   "cell_type": "code",
   "execution_count": null,
   "id": "5fa08fd0",
   "metadata": {},
   "outputs": [],
   "source": []
  },
  {
   "cell_type": "markdown",
   "id": "818909ca",
   "metadata": {},
   "source": [
    "# 3. Sort the keys of the dictionary from a to z.  - 0.5 балла"
   ]
  },
  {
   "cell_type": "code",
   "execution_count": 10,
   "id": "b81d45f3",
   "metadata": {},
   "outputs": [
    {
     "data": {
      "text/plain": [
       "{'cheesecake': 4, 'chocolate': 2, 'pudding': 3, 'tiramisu': 5}"
      ]
     },
     "execution_count": 10,
     "metadata": {},
     "output_type": "execute_result"
    }
   ],
   "source": [
    "d_= {\"tiramisu\":5, \"chocolate\":2, \"pudding\":3, \"cheesecake\":4}\n",
    "def dict_sort(d):\n",
    "    return dict(sorted(d.items()))\n",
    "dict_sort(d_)           "
   ]
  },
  {
   "cell_type": "markdown",
   "id": "77275ebf",
   "metadata": {},
   "source": [
    "# 4. Compare three values, return true only if 2 or more values are equal - 0.5 балла"
   ]
  },
  {
   "cell_type": "code",
   "execution_count": 31,
   "id": "d0893272",
   "metadata": {},
   "outputs": [
    {
     "data": {
      "text/plain": [
       "False"
      ]
     },
     "execution_count": 31,
     "metadata": {},
     "output_type": "execute_result"
    }
   ],
   "source": [
    "def test_number (x, y, z):\n",
    "   if x == y or x==z or z==y:\n",
    "       return True\n",
    "   else:\n",
    "       return False\n",
    "test_number(2,3,1)"
   ]
  },
  {
   "cell_type": "markdown",
   "id": "895340c0",
   "metadata": {},
   "source": [
    "# 5. Given a list with pairs, sort on the sum of pairs - 0.5 балла"
   ]
  },
  {
   "cell_type": "code",
   "execution_count": 4,
   "id": "7a8971e2",
   "metadata": {},
   "outputs": [
    {
     "data": {
      "text/plain": [
       "[(3, 1), (3, 6), (4, 7), (8, 4), (5, 9)]"
      ]
     },
     "execution_count": 4,
     "metadata": {},
     "output_type": "execute_result"
    }
   ],
   "source": [
    "x = [(3,6),(4,7),(5,9),(8,4),(3,1)]\n",
    "def pair_sum_sorted(ps):\n",
    "    return sorted(ps, key=lambda p: p[0] + p[1])\n",
    "pair_sum_sorted(x)"
   ]
  },
  {
   "cell_type": "markdown",
   "id": "be5b7018",
   "metadata": {},
   "source": [
    "# 6. Create a function that takes a list of numbers. Return the largest number in the list. - 0.5 балла"
   ]
  },
  {
   "cell_type": "code",
   "execution_count": 15,
   "id": "2ddbc7bf",
   "metadata": {},
   "outputs": [
    {
     "data": {
      "text/plain": [
       "1001"
      ]
     },
     "execution_count": 15,
     "metadata": {},
     "output_type": "execute_result"
    }
   ],
   "source": [
    "def findLargestNum (ls):\n",
    "    return max(ls)\n",
    "\n",
    "findLargestNum([4, 5, 1, 3])\n",
    "\n",
    "findLargestNum([300, 200, 600, 150]) \n",
    "\n",
    "findLargestNum([1000, 1001, 857, 1]) \n",
    "\n"
   ]
  },
  {
   "cell_type": "markdown",
   "id": "17918763",
   "metadata": {},
   "source": [
    "# 7. Create a function that takes a string and returns the concatenated first and last character. - 0.5 балла"
   ]
  },
  {
   "cell_type": "code",
   "execution_count": 16,
   "id": "7062bfdb",
   "metadata": {},
   "outputs": [
    {
     "data": {
      "text/plain": [
       "'cherrycherry'"
      ]
     },
     "execution_count": 16,
     "metadata": {},
     "output_type": "execute_result"
    }
   ],
   "source": [
    "def repetition(s, n):\n",
    "    return s * n\n",
    "\n",
    "repetition(\"ab\", 3) # ➞ \"ababab\"\n",
    "\n",
    "repetition(\"kiwi\", 1) # ➞ \"kiwi\"\n",
    "\n",
    "repetition(\"cherry\", 2) # ➞ \"cherrycherry\"\n",
    "\n"
   ]
  },
  {
   "cell_type": "markdown",
   "id": "5c2fe48a",
   "metadata": {},
   "source": [
    "# 8. Create a function that takes a 2D list lst returns the sum of the minimum value in each row. - 0.5 балла"
   ]
  },
  {
   "cell_type": "code",
   "execution_count": 22,
   "id": "c3232abb",
   "metadata": {},
   "outputs": [
    {
     "data": {
      "text/plain": [
       "26"
      ]
     },
     "execution_count": 22,
     "metadata": {},
     "output_type": "execute_result"
    }
   ],
   "source": [
    "def sum_minimums(lss):\n",
    "    return sum(map(min, lss))\n",
    "\n",
    "sum_minimums([\n",
    "  [1, 2, 3, 4, 5],\n",
    "  [5, 6, 7, 8, 9],\n",
    "  [20, 21, 34, 56, 100]\n",
    "] )\n",
    "    \n"
   ]
  },
  {
   "cell_type": "markdown",
   "id": "88c6709f",
   "metadata": {},
   "source": [
    "# 9. Create a function to return the amount of potatoes there are in a string. - 0.5 балла"
   ]
  },
  {
   "cell_type": "code",
   "execution_count": 20,
   "id": "e2610cbd",
   "metadata": {},
   "outputs": [
    {
     "data": {
      "text/plain": [
       "1"
      ]
     },
     "execution_count": 20,
     "metadata": {},
     "output_type": "execute_result"
    }
   ],
   "source": [
    "def potatoes(s):\n",
    "    return s.count(\"potato\")\n",
    "\n",
    "potatoes(\"potato\") \n",
    "\n",
    "potatoes(\"potatopotato\")\n",
    "\n",
    "potatoes(\"potatoapple\") "
   ]
  },
  {
   "cell_type": "markdown",
   "id": "7fb5aa44",
   "metadata": {},
   "source": [
    "10. Create a function that takes a list of integers as an argument and returns a unique number from that list. All numbers except unique ones have the same number of occurrences in the list. - 0.5 балла"
   ]
  },
  {
   "cell_type": "code",
   "execution_count": 21,
   "id": "a43f80e0",
   "metadata": {},
   "outputs": [
    {
     "data": {
      "text/plain": [
       "(101, 1)"
      ]
     },
     "execution_count": 21,
     "metadata": {},
     "output_type": "execute_result"
    }
   ],
   "source": [
    "from collections import Counter\n",
    "def find_single_number(xs):\n",
    "    if len(xs) == 0:\n",
    "        return None\n",
    "    counter = Counter(xs)\n",
    "    return counter.most_common()[-1]\n",
    "\n",
    "find_single_number([2, 2, 2, 3, 4, 4, 4]) \n",
    "\n",
    "find_single_number([2]) \n",
    "\n",
    "find_single_number([]) \n",
    "\n",
    "find_single_number([7, 13, 3, 6, 5, 4, 4, 13, 5, 3, 6, 7, 6, 5, 3, 13, 4, 7, 13, 5, 7, 4, 3, 6, 8, 4, 3, 7, 5, 6, 13]) \n",
    "\n",
    "find_single_number([1, 2, 3, 6, 5, 4, 4, 2, 5, 3, 6, 1, 6, 5, 3, 2, 4, 1, 2, 5, 1, 4, 3, 6, 101, 4, 3, 1, 5, 6, 2]) \n",
    "\n"
   ]
  },
  {
   "cell_type": "markdown",
   "id": "0313ea52",
   "metadata": {},
   "source": [
    "# 11. Given a letter and a list of words, return whether the letter does not appear in any of the words. - 0.5 балла"
   ]
  },
  {
   "cell_type": "code",
   "execution_count": 23,
   "id": "0cb649a5",
   "metadata": {},
   "outputs": [
    {
     "data": {
      "text/plain": [
       "True"
      ]
     },
     "execution_count": 23,
     "metadata": {},
     "output_type": "execute_result"
    }
   ],
   "source": [
    "def forbidden_letter(c, ss):\n",
    "    return not any(c in s for s in ss)\n",
    "\n",
    "forbidden_letter(\"r\", [\"rock\", \"paper\", \"scissors\"]) \n",
    "\n",
    "forbidden_letter(\"a\", [\"spoon\", \"fork\", \"knife\"]) \n",
    "\n",
    "forbidden_letter(\"m\", []) \n",
    "\n"
   ]
  },
  {
   "cell_type": "markdown",
   "id": "0a7ef5b5",
   "metadata": {},
   "source": [
    "# 12.  Define a function which create a Pattern like this one.  - 2 балла"
   ]
  },
  {
   "cell_type": "code",
   "execution_count": null,
   "id": "7617ebb7",
   "metadata": {},
   "outputs": [],
   "source": [
    "Input: 4\n",
    "Pattern:\n",
    "\n",
    " 01234\n",
    "  | |     0\n",
    " -----    1\n",
    "  | |     2\n",
    " -----    3\n",
    "  | |     4"
   ]
  },
  {
   "cell_type": "code",
   "execution_count": null,
   "id": "5d3b0cdd",
   "metadata": {},
   "outputs": [],
   "source": []
  },
  {
   "cell_type": "markdown",
   "id": "0d5edcd1",
   "metadata": {},
   "source": [
    "# 13. Create a function that takes three numbers as arguments and returns True if it's a triangle and False if not.  - 0.5 балла"
   ]
  },
  {
   "cell_type": "code",
   "execution_count": null,
   "id": "d867302c",
   "metadata": {},
   "outputs": [],
   "source": [
    "is_triangle(2, 3, 4) ➞ True\n",
    "\n",
    "is_triangle(3, 4, 5) ➞ True\n",
    "\n",
    "is_triangle(4, 3, 8) ➞ False"
   ]
  },
  {
   "cell_type": "markdown",
   "id": "2bdfb66e",
   "metadata": {},
   "source": [
    "# 14. Create a \"Code\" Generator that takes text as input and replaces some letter with another letter, and outputs the \"encoded\" message. Create funcs to encode and decode messages"
   ]
  },
  {
   "cell_type": "code",
   "execution_count": null,
   "id": "0caf2b35",
   "metadata": {},
   "outputs": [],
   "source": [
    "replacement = {\"a\": \"b\", \"d\": \"1\" ......}"
   ]
  }
 ],
 "metadata": {
  "kernelspec": {
   "display_name": "Python 3 (ipykernel)",
   "language": "python",
   "name": "python3"
  },
  "language_info": {
   "codemirror_mode": {
    "name": "ipython",
    "version": 3
   },
   "file_extension": ".py",
   "mimetype": "text/x-python",
   "name": "python",
   "nbconvert_exporter": "python",
   "pygments_lexer": "ipython3",
   "version": "3.9.12"
  }
 },
 "nbformat": 4,
 "nbformat_minor": 5
}

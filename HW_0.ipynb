{
 "cells": [
  {
   "cell_type": "markdown",
   "id": "4aae3dfe",
   "metadata": {},
   "source": [
    "## Вывод (std out)"
   ]
  },
  {
   "cell_type": "code",
   "execution_count": 1,
   "id": "19d51336",
   "metadata": {},
   "outputs": [],
   "source": [
    "## Напишите программу, которая вводит строки без newline или space (не забудьте что print принимает сколько угодно аргументов)\n",
    "\n",
    "# Тестовые данные\n",
    "\n",
    "# 1, 5, 8, 3 -> 1583\n",
    "# 1, \"new\", 8, \"old\" -> 1new8old"
   ]
  },
  {
   "cell_type": "code",
   "execution_count": 155,
   "id": "f6192736",
   "metadata": {
    "scrolled": true
   },
   "outputs": [
    {
     "name": "stdout",
     "output_type": "stream",
     "text": [
      "1583\n",
      "1new8old\n"
     ]
    }
   ],
   "source": [
    "print (1, 5, 8, 3, '\\n', 1, \"new\", 8, \"old\", sep='')"
   ]
  },
  {
   "cell_type": "markdown",
   "id": "c6a2735e",
   "metadata": {},
   "source": [
    "## Арифметика "
   ]
  },
  {
   "cell_type": "code",
   "execution_count": 2,
   "id": "bc23a479",
   "metadata": {},
   "outputs": [],
   "source": [
    "## Расчитайте расстояние между двумя заданными точками (math.sqrt) заданными в двумерном пространстве\n",
    "\n",
    "# Тестовые данные\n",
    "\n",
    "# [0, 0], [1, 1] -> 1.4142135623730951\n",
    "# [0, 1], [1, 5] -> 4.123105625617661\n",
    "# [4, 1], [12, 5] -> 8.94427190999916\n"
   ]
  },
  {
   "cell_type": "code",
   "execution_count": 153,
   "id": "6791ae99",
   "metadata": {},
   "outputs": [
    {
     "name": "stdout",
     "output_type": "stream",
     "text": [
      "1.4142135623730951\n",
      "4.123105625617661\n",
      "8.94427190999916\n"
     ]
    }
   ],
   "source": [
    "import math\n",
    "a=[0, 0]\n",
    "b=[1, 1]\n",
    "c=[0, 1]\n",
    "d=[1, 5]\n",
    "e=[4, 1]\n",
    "f=[12, 5]\n",
    "first=math.sqrt(((a[0]-b[0])**2)+((a[1]-b[1])**2))\n",
    "second=math.sqrt(((c[0]-d[0])**2)+((c[1]-d[1])**2))\n",
    "third=math.sqrt(((e[0]-f[0])**2)+((e[1]-f[1])**2))\n",
    "print(first, second, third, sep=\"\\n\")"
   ]
  },
  {
   "cell_type": "markdown",
   "id": "6c5d4192",
   "metadata": {},
   "source": [
    "## Списки"
   ]
  },
  {
   "cell_type": "code",
   "execution_count": 3,
   "id": "ace65e2e",
   "metadata": {},
   "outputs": [],
   "source": [
    "## Посчитайте сумму элементов в списке (только тех, что чей тип float)\n",
    "\n",
    "# Тестовые данные\n",
    "\n",
    "color_list = [0.1,\"зеленый\", 1.6, \"белый\", 0.3, \"черный\", 7, \"2.0\"]\n",
    "\n",
    "# ответ: 2"
   ]
  },
  {
   "cell_type": "code",
   "execution_count": 18,
   "id": "ed8b7d9b",
   "metadata": {},
   "outputs": [
    {
     "name": "stdout",
     "output_type": "stream",
     "text": [
      "2.0\n"
     ]
    }
   ],
   "source": [
    "color_list = [0.1,\"зеленый\", 1.6, \"белый\", 0.3, \"черный\", 7, \"2.0\"]\n",
    "print(color_list[0]+color_list[2]+color_list[4])"
   ]
  },
  {
   "cell_type": "code",
   "execution_count": 4,
   "id": "f5efd6f8",
   "metadata": {},
   "outputs": [],
   "source": [
    "## Отобразите с помощью print только первый и последний элемент списка (цикл while)\n",
    "\n",
    "# Тестовые данные\n",
    "\n",
    "color_list = [\"красный\",\"зеленый\",\"белый\" ,\"черный\"]"
   ]
  },
  {
   "cell_type": "code",
   "execution_count": 15,
   "id": "bd6f967e",
   "metadata": {},
   "outputs": [
    {
     "name": "stdout",
     "output_type": "stream",
     "text": [
      "красный, черный\n"
     ]
    }
   ],
   "source": [
    "color_list = [\"красный\",\"зеленый\",\"белый\" ,\"черный\"]\n",
    "print(color_list[0], color_list[3], sep=', ')"
   ]
  },
  {
   "cell_type": "code",
   "execution_count": 5,
   "id": "0120e466",
   "metadata": {},
   "outputs": [],
   "source": [
    "## Проверьте есть ли в данный элемент в списке, если есть выведите с помощью print \"Element такой то was found\", если элемента не нашлось выведите \"Clear\" (цикл while) \n",
    "\n",
    "# Тестовые данные\n",
    "\n",
    "# 3 -> [1, 5, 8, 3] -> \"Element 3 was found\"\n",
    "# -1 -> [1, 5, 8, 3] -> \"Clear\"\n",
    "# \"color\" -> [1, \"color\", 1.3, 3] ->  \"Element color was found\"\n"
   ]
  },
  {
   "cell_type": "code",
   "execution_count": 21,
   "id": "e1d64f6d",
   "metadata": {},
   "outputs": [
    {
     "name": "stdout",
     "output_type": "stream",
     "text": [
      "Element 1 was found\n"
     ]
    }
   ],
   "source": [
    "l1=[1, 5, 8, 3]\n",
    "element=1\n",
    "if element in l1:\n",
    "    print('Element', element, 'was found')\n",
    "else:\n",
    "    print('Clear')\n",
    "\n"
   ]
  },
  {
   "cell_type": "code",
   "execution_count": 2,
   "id": "824424aa",
   "metadata": {},
   "outputs": [],
   "source": [
    "## Пройдите по списку и объедините все элементы из списка в одну строку через пробел (цикл while)\n",
    "\n",
    "# Тестовые данные\n",
    "\n",
    "# [\"9\", \"caMii\", \" /\\y4LLIii\", \"proger\", \"v\", \"2022\", \"roDy\"] -> 9 caMii  /\\y4LLIii proger v 2022 roDy"
   ]
  },
  {
   "cell_type": "code",
   "execution_count": 20,
   "id": "6da05161",
   "metadata": {},
   "outputs": [
    {
     "name": "stdout",
     "output_type": "stream",
     "text": [
      "9 caMii  /\\y4LLIii proger v 2022 roDy\n"
     ]
    }
   ],
   "source": [
    "parameters = [\"9\", \"caMii\", \" /\\y4LLIii\", \"proger\", \"v\", \"2022\", \"roDy\"] \n",
    "full_data = ' '.join(parameters)\n",
    "print(full_data)"
   ]
  },
  {
   "cell_type": "code",
   "execution_count": 7,
   "id": "1c52c4b8",
   "metadata": {},
   "outputs": [],
   "source": [
    "## Пройдите по двум списка сразу и выведите сразу по два элемента - один из одного списка, другой из другого \n",
    "## (подсказка - обращайтесь по индексу к элементам обоих списков)\n",
    "\n",
    "# Тестовые данные\n",
    "\n",
    "color_list_1 = [\"White\", \"Black\", \"Red\"]\n",
    "color_list_2 = [\"Red\", \"Green\", \"White\"]\n",
    "\n",
    "# White Red\n",
    "# Black Green\n",
    "# Red White"
   ]
  },
  {
   "cell_type": "code",
   "execution_count": 28,
   "id": "9f3136cc",
   "metadata": {},
   "outputs": [
    {
     "name": "stdout",
     "output_type": "stream",
     "text": [
      "White Red\n",
      "Black Green\n",
      "Red White\n"
     ]
    }
   ],
   "source": [
    "color_list_1 = [\"White\", \"Black\", \"Red\"]\n",
    "color_list_2 = [\"Red\", \"Green\", \"White\"]\n",
    "\n",
    "for index in range(len(color_list_1)):\n",
    "    print (color_list_1[index] + ' ' + color_list_2[index])"
   ]
  },
  {
   "cell_type": "code",
   "execution_count": 36,
   "id": "9d59ec07",
   "metadata": {},
   "outputs": [],
   "source": [
    "## Пройдите по списку и выводите каждый следующий элемент столько раз какой у него ((индекс + 1) * 3) в списке (цикл while) \n",
    "\n",
    "# Тестовые данные\n",
    "\n",
    "a = [\"a\", \"b\", \"c\", \"d\"] \n",
    "\n",
    "# ответ -> \"aaabbbbbbcccccccccdddddddddddd\""
   ]
  },
  {
   "cell_type": "code",
   "execution_count": 118,
   "id": "5e5cfe22",
   "metadata": {},
   "outputs": [
    {
     "name": "stdout",
     "output_type": "stream",
     "text": [
      "aaabbbbbbcccccccccdddddddddddd"
     ]
    }
   ],
   "source": [
    "a = [\"a\", \"b\", \"c\", \"d\"] \n",
    "i = 0\n",
    "for i in range(len(a)):\n",
    "    lst=a[i]*((i+1)*3)\n",
    "    i+=1\n",
    "    print(lst, end='')\n",
    "    \n",
    "      \n",
    "    \n"
   ]
  },
  {
   "cell_type": "code",
   "execution_count": 104,
   "id": "bfd569fd",
   "metadata": {},
   "outputs": [],
   "source": [
    "## Зайдите в каждый масив внутри (если это списко) и рассортируйте мне элементы по соответствующим спискам (не забудьте про append)\n",
    "\n",
    "sample = [[\"a\", \"b\", 1, 2.4], \"string\", [\"new\", 11111, 1000.0, \"old\"]]\n",
    "\n",
    "\n",
    "integers = []\n",
    "floats = []\n",
    "strings = []\n",
    "\n",
    "# ответ\n",
    "# integers -> [1, 11111]\n",
    "# floats -> [2.4, 1000.0]\n",
    "# strings -> [\"a\", \"b\", \"string\", \"new\", \"old\"]"
   ]
  },
  {
   "cell_type": "code",
   "execution_count": 148,
   "id": "6fcac81c",
   "metadata": {},
   "outputs": [
    {
     "name": "stdout",
     "output_type": "stream",
     "text": [
      "[]\n",
      "[]\n",
      "[]\n"
     ]
    }
   ],
   "source": [
    "sample = [[\"a\", \"b\", 1, 2.4], \"string\", [\"new\", 11111, 1000.0, \"old\"]]\n",
    "\n",
    "\n",
    "integers = []\n",
    "floats = []\n",
    "strings = []\n",
    "\n",
    "a=sample[0]\n",
    "b=sample[2]\n",
    "\n",
    "new_sample=[a[0], a[1], a[2], sample[1], b[0], b[1], b[2], b[3]]\n",
    "\n",
    "\n",
    "for element in range(len(new_sample)):\n",
    "    if new_sample[element] in range(len(new_sample)) is int:\n",
    "        integers.append(new_sample[element])\n",
    "    if element in range(len(new_sample)) is float:\n",
    "        floats.append(new_sample[element])\n",
    "    if element in range(len(new_sample)) is str:\n",
    "        strings.append(new_sample[element])\n",
    "    i+=1\n",
    "        \n",
    "print(integers, floats, strings, sep='\\n')\n",
    "\n",
    "?????"
   ]
  },
  {
   "cell_type": "markdown",
   "id": "4d785ec2",
   "metadata": {},
   "source": [
    "## Библиотеки "
   ]
  },
  {
   "cell_type": "code",
   "execution_count": 10,
   "id": "0937e5e0",
   "metadata": {},
   "outputs": [],
   "source": [
    "## Напишите программу, которая выводит настоящее время ( то есть в ремя в которую программа запущена, используйте либу - time) \n",
    "\n",
    "# Тестовые данные (например)\n",
    "\n",
    "# 'Sat Oct  1 00:34:36 2022'"
   ]
  },
  {
   "cell_type": "code",
   "execution_count": 79,
   "id": "5c70c29c",
   "metadata": {},
   "outputs": [
    {
     "name": "stdout",
     "output_type": "stream",
     "text": [
      "Sun Oct  16 21:57:35 2022\n"
     ]
    }
   ],
   "source": [
    "import datetime\n",
    "\n",
    "\n",
    "current_time=time.strftime(\"%a %b  %d %H:%M:%S %Y\") \n",
    "print(current_time)"
   ]
  }
 ],
 "metadata": {
  "kernelspec": {
   "display_name": "Python 3 (ipykernel)",
   "language": "python",
   "name": "python3"
  },
  "language_info": {
   "codemirror_mode": {
    "name": "ipython",
    "version": 3
   },
   "file_extension": ".py",
   "mimetype": "text/x-python",
   "name": "python",
   "nbconvert_exporter": "python",
   "pygments_lexer": "ipython3",
   "version": "3.9.12"
  }
 },
 "nbformat": 4,
 "nbformat_minor": 5
}
